{
 "cells": [
  {
   "cell_type": "code",
   "execution_count": 15,
   "metadata": {},
   "outputs": [],
   "source": [
    "import numpy as np\n",
    "import tensorflow as tf\n",
    "from utils import * \n"
   ]
  },
  {
   "cell_type": "code",
   "execution_count": 24,
   "metadata": {},
   "outputs": [
    {
     "name": "stdout",
     "output_type": "stream",
     "text": [
      "[[3 1 3 ... 3 1 3]\n",
      " ['male' 'female' 'female' ... 'female' 'male' 'male']\n",
      " [22.0 38.0 26.0 ... 29.69911764705882 26.0 32.0]\n",
      " [1 1 0 ... 1 0 0]\n",
      " [0 0 0 ... 2 0 0]\n",
      " [7.25 71.2833 7.925 ... 23.45 30.0 7.75]]\n",
      "(1, 891)\n"
     ]
    },
    {
     "ename": "IndexError",
     "evalue": "index 2 is out of bounds for axis 0 with size 1",
     "output_type": "error",
     "traceback": [
      "\u001b[0;31m---------------------------------------------------------------------------\u001b[0m",
      "\u001b[0;31mIndexError\u001b[0m                                Traceback (most recent call last)",
      "\u001b[0;32m<ipython-input-24-46a413177b1c>\u001b[0m in \u001b[0;36m<module>\u001b[0;34m\u001b[0m\n\u001b[1;32m      3\u001b[0m \u001b[0mprint\u001b[0m\u001b[0;34m(\u001b[0m\u001b[0mX_train_orig\u001b[0m\u001b[0;34m)\u001b[0m\u001b[0;34m\u001b[0m\u001b[0;34m\u001b[0m\u001b[0m\n\u001b[1;32m      4\u001b[0m \u001b[0mprint\u001b[0m\u001b[0;34m(\u001b[0m\u001b[0mY_train_orig\u001b[0m\u001b[0;34m.\u001b[0m\u001b[0mshape\u001b[0m\u001b[0;34m)\u001b[0m\u001b[0;34m\u001b[0m\u001b[0;34m\u001b[0m\u001b[0m\n\u001b[0;32m----> 5\u001b[0;31m \u001b[0mprint\u001b[0m\u001b[0;34m(\u001b[0m\u001b[0mY_train_orig\u001b[0m\u001b[0;34m[\u001b[0m\u001b[0;36m2\u001b[0m\u001b[0;34m]\u001b[0m\u001b[0;34m)\u001b[0m\u001b[0;34m\u001b[0m\u001b[0;34m\u001b[0m\u001b[0m\n\u001b[0m\u001b[1;32m      6\u001b[0m \u001b[0mprint\u001b[0m\u001b[0;34m(\u001b[0m\u001b[0mX_test_orig\u001b[0m\u001b[0;34m)\u001b[0m\u001b[0;34m\u001b[0m\u001b[0;34m\u001b[0m\u001b[0m\n",
      "\u001b[0;31mIndexError\u001b[0m: index 2 is out of bounds for axis 0 with size 1"
     ]
    }
   ],
   "source": [
    "X_train_orig, Y_train_orig, X_test_orig = load_datasets()\n",
    "Y_train_orig = Y_train_orig.reshape(1,len(Y_train_orig))\n",
    "print(X_train_orig)\n",
    "print(Y_train_orig.shape)\n",
    "print(Y_train_orig[])\n",
    "print(X_test_orig)"
   ]
  },
  {
   "cell_type": "code",
   "execution_count": 17,
   "metadata": {},
   "outputs": [
    {
     "name": "stdout",
     "output_type": "stream",
     "text": [
      "[[0.8273772438659676 -1.5661069258891531 0.8273772438659676 ...\n",
      "  0.8273772438659676 -1.5661069258891531 0.8273772438659676]\n",
      " [-0.7376951317802897 1.3555735383351184 1.3555735383351184 ...\n",
      "  1.3555735383351184 -0.7376951317802897 -0.7376951317802897]\n",
      " [-0.5924805998028886 0.638789012042525 -0.2846631968415352 ...\n",
      "  4.374348392294584e-15 -0.2846631968415352 0.17706290760049492]\n",
      " [0.43279336567850346 0.43279336567850346 -0.4745451962498414 ...\n",
      "  0.43279336567850346 -0.4745451962498414 -0.4745451962498414]\n",
      " [-0.473673609298456 -0.473673609298456 -0.473673609298456 ...\n",
      "  2.0089333664952163 -0.473673609298456 -0.473673609298456]\n",
      " [-0.5024451714361915 0.7868452935884467 -0.4888542575852478 ...\n",
      "  -0.1762632390135436 -0.0443810379414236 -0.49237782784289985]]\n",
      "[[0.8734819050636105 0.8734819050636105 -0.3158191904301653 ...\n",
      "  0.8734819050636105 0.8734819050636105 0.8734819050636105]\n",
      " [-0.755928946018455 1.322875655532296 -0.755928946018455 ...\n",
      "  -0.755928946018455 -0.755928946018455 -0.755928946018455]\n",
      " [0.3349925991279998 1.325530031533564 2.514174950420241 ...\n",
      "  0.6519645774977804 -2.533749037539246e-15 -2.533749037539246e-15]\n",
      " [-0.4994700165357186 0.6169923733676523 -0.4994700165357186 ...\n",
      "  -0.4994700165357186 -0.4994700165357186 0.6169923733676523]\n",
      " [-0.4002477016385638 -0.4002477016385638 -0.4002477016385638 ...\n",
      "  -0.4002477016385638 -0.4002477016385638 0.6198958305865561]\n",
      " [-0.4981718976707336 -0.5130389656780081 -0.46485367229938984 ...\n",
      "  -0.5085566128055785 -0.4942130836138038 -0.23767368519546578]]\n",
      "(6, 891)\n",
      "(6, 418)\n"
     ]
    }
   ],
   "source": [
    "X_train, X_test = pre_process_data(X_train_orig, X_test_orig)\n",
    "print(X_train)\n",
    "print(X_test)\n",
    "print(X_train.shape)\n",
    "print(X_test.shape)"
   ]
  },
  {
   "cell_type": "code",
   "execution_count": 31,
   "metadata": {},
   "outputs": [],
   "source": [
    "def initialize_parameters(dim):\n",
    "    \"\"\"initialize W as random of size  (1,dim) and b = 0\"\"\"\n",
    "    W = np.zeros((1,dim))\n",
    "    b = 0\n",
    "\n",
    "    return W,b\n"
   ]
  },
  {
   "cell_type": "code",
   "execution_count": 46,
   "metadata": {},
   "outputs": [],
   "source": [
    "def propagate(W,b,x,y):\n",
    "    \"\"\"One step of forwards propagation and calculate gradients\n",
    "    Arguments : \n",
    "    W-> weights\n",
    "    b -> bias\n",
    "    x -> input\n",
    "    y -> ground truth \n",
    "    Returns:\n",
    "    grads : dict of gradients \n",
    "    cost : cost \n",
    "                \n",
    "    \"\"\"\n",
    "    \n",
    "    #number of training examples\n",
    "    m = x.shape[1]    \n",
    "    Z = np.dot(W,x) + b\n",
    "    A = 1/(1+np.exp(-Z))\n",
    "    cost -1*np.sum(np.dot(Y,np.log(A).T) + np.dot((1-Y),np.log(1-A).T))/m    \n",
    "    cost = np.squeeze(cost)\n",
    "\n",
    "    #gradients \n",
    "    dW = np.dot(X,(A-y).T)/m\n",
    "    db = np.sum(A-y)/m\n",
    "#     print(dW.shape)\n",
    "#     print(db.shape)\n",
    "#     print(\"dW \", dW)\n",
    "#     print(\"db \", db)\n",
    "\n",
    "    grads = {\"dW\" : dW, \"db\" : db}\n",
    "    return grads, cost\n",
    "    \n",
    "\n"
   ]
  },
  {
   "cell_type": "code",
   "execution_count": 47,
   "metadata": {},
   "outputs": [],
   "source": [
    "def optimize(W,b,x,y, num_iters, learning_rate):\n",
    "    \n",
    "    cost_history = []\n",
    "    for i in range(num_iters):\n",
    "        \n",
    "        grads, cost = propagate(W,b,x,y)\n",
    "        W = W - learning_rate*grads[\"dW\"]\n",
    "        b = b - learning_rate*grads[\"db\"]\n",
    "        cost_history.append(cost)\n",
    "        \n",
    "        if(i%100 == 0):\n",
    "            print(\"cost after \", i, \" iterations is \", cost)\n",
    "    \n",
    "    parameters = {\"W\" : W, \"b\" : b}\n",
    "    \n",
    "    return parameters, cost_history\n",
    "\n"
   ]
  },
  {
   "cell_type": "code",
   "execution_count": 48,
   "metadata": {},
   "outputs": [],
   "source": [
    "def predict(W,b,x):\n",
    "    \n",
    "    m = x.shape[1]\n",
    "    Z = np.dot(W,x) + b\n",
    "    A = 1/(1+np.exp(-Z))\n",
    "    \n",
    "    y_pred = np.zeros((1,m))\n",
    "    \n",
    "    for i in range(A.shape[1]):\n",
    "        if(A[0,i] <=0.5):\n",
    "            y_pred[0,i] = 0\n",
    "        else:\n",
    "            y_pred[0,i] = 1\n",
    "    \n",
    "    return y_pred\n"
   ]
  },
  {
   "cell_type": "code",
   "execution_count": 49,
   "metadata": {},
   "outputs": [],
   "source": [
    "def model(X_train , Y_train , X_test, num_iter, learning_rate, plot_cost = True):\n",
    "    \n",
    "    dim = X_train.shape[0]\n",
    "    \n",
    "    W,b = initialize_parameters(dim)\n",
    "    parameters, costs = optimize(W,b,X_train, Y_train, num_iter, learning_rate)\n",
    "    \n",
    "    W = parameters[\"W\"]\n",
    "    b = parameters[\"b\"]\n",
    "    \n",
    "    y_pred_test = predict(W,b,X_test)\n",
    "    y_pred_train = predict(W,b,X_train)\n",
    "    \n",
    "    train_accuracy = 100 - np.mean(np.abs(y_pred_train - Y_train))*100\n",
    "    print(\"Training Accuracy : \", train_accuracy)\n",
    "    if(plot_cost):\n",
    "        costs = np.squeeze(costs) \n",
    "        plt.plot(costs) \n",
    "        plt.xlabel(\"Iterations\")\n",
    "        plt.ylabel(\"Cost\")\n",
    "        plt.show()\n",
    "        \n",
    "    return y_pred_test,costs\n",
    "\n"
   ]
  },
  {
   "cell_type": "code",
   "execution_count": 50,
   "metadata": {},
   "outputs": [
    {
     "ename": "AttributeError",
     "evalue": "'float' object has no attribute 'exp'",
     "output_type": "error",
     "traceback": [
      "\u001b[0;31m---------------------------------------------------------------------------\u001b[0m",
      "\u001b[0;31mAttributeError\u001b[0m                            Traceback (most recent call last)",
      "\u001b[0;32m<ipython-input-50-4d260e64ee0b>\u001b[0m in \u001b[0;36m<module>\u001b[0;34m\u001b[0m\n\u001b[0;32m----> 1\u001b[0;31m \u001b[0my_pred_test\u001b[0m\u001b[0;34m,\u001b[0m\u001b[0mcosts\u001b[0m \u001b[0;34m=\u001b[0m \u001b[0mmodel\u001b[0m\u001b[0;34m(\u001b[0m\u001b[0mX_train\u001b[0m\u001b[0;34m,\u001b[0m \u001b[0mY_train_orig\u001b[0m\u001b[0;34m,\u001b[0m \u001b[0mX_test\u001b[0m\u001b[0;34m,\u001b[0m \u001b[0mnum_iter\u001b[0m \u001b[0;34m=\u001b[0m \u001b[0;36m2000\u001b[0m\u001b[0;34m,\u001b[0m \u001b[0mlearning_rate\u001b[0m \u001b[0;34m=\u001b[0m \u001b[0;36m0.001\u001b[0m\u001b[0;34m)\u001b[0m\u001b[0;34m\u001b[0m\u001b[0;34m\u001b[0m\u001b[0m\n\u001b[0m\u001b[1;32m      2\u001b[0m \u001b[0mprint\u001b[0m\u001b[0;34m(\u001b[0m\u001b[0my_pred_test\u001b[0m\u001b[0;34m)\u001b[0m\u001b[0;34m\u001b[0m\u001b[0;34m\u001b[0m\u001b[0m\n",
      "\u001b[0;32m<ipython-input-49-962319f7ce70>\u001b[0m in \u001b[0;36mmodel\u001b[0;34m(X_train, Y_train, X_test, num_iter, learning_rate, plot_cost)\u001b[0m\n\u001b[1;32m      4\u001b[0m \u001b[0;34m\u001b[0m\u001b[0m\n\u001b[1;32m      5\u001b[0m     \u001b[0mW\u001b[0m\u001b[0;34m,\u001b[0m\u001b[0mb\u001b[0m \u001b[0;34m=\u001b[0m \u001b[0minitialize_parameters\u001b[0m\u001b[0;34m(\u001b[0m\u001b[0mdim\u001b[0m\u001b[0;34m)\u001b[0m\u001b[0;34m\u001b[0m\u001b[0;34m\u001b[0m\u001b[0m\n\u001b[0;32m----> 6\u001b[0;31m     \u001b[0mparameters\u001b[0m\u001b[0;34m,\u001b[0m \u001b[0mcosts\u001b[0m \u001b[0;34m=\u001b[0m \u001b[0moptimize\u001b[0m\u001b[0;34m(\u001b[0m\u001b[0mW\u001b[0m\u001b[0;34m,\u001b[0m\u001b[0mb\u001b[0m\u001b[0;34m,\u001b[0m\u001b[0mX_train\u001b[0m\u001b[0;34m,\u001b[0m \u001b[0mY_train\u001b[0m\u001b[0;34m,\u001b[0m \u001b[0mnum_iter\u001b[0m\u001b[0;34m,\u001b[0m \u001b[0mlearning_rate\u001b[0m\u001b[0;34m)\u001b[0m\u001b[0;34m\u001b[0m\u001b[0;34m\u001b[0m\u001b[0m\n\u001b[0m\u001b[1;32m      7\u001b[0m \u001b[0;34m\u001b[0m\u001b[0m\n\u001b[1;32m      8\u001b[0m     \u001b[0mW\u001b[0m \u001b[0;34m=\u001b[0m \u001b[0mparameters\u001b[0m\u001b[0;34m[\u001b[0m\u001b[0;34m\"W\"\u001b[0m\u001b[0;34m]\u001b[0m\u001b[0;34m\u001b[0m\u001b[0;34m\u001b[0m\u001b[0m\n",
      "\u001b[0;32m<ipython-input-47-8b89ee7d98e6>\u001b[0m in \u001b[0;36moptimize\u001b[0;34m(W, b, x, y, num_iters, learning_rate)\u001b[0m\n\u001b[1;32m      4\u001b[0m     \u001b[0;32mfor\u001b[0m \u001b[0mi\u001b[0m \u001b[0;32min\u001b[0m \u001b[0mrange\u001b[0m\u001b[0;34m(\u001b[0m\u001b[0mnum_iters\u001b[0m\u001b[0;34m)\u001b[0m\u001b[0;34m:\u001b[0m\u001b[0;34m\u001b[0m\u001b[0;34m\u001b[0m\u001b[0m\n\u001b[1;32m      5\u001b[0m \u001b[0;34m\u001b[0m\u001b[0m\n\u001b[0;32m----> 6\u001b[0;31m         \u001b[0mgrads\u001b[0m\u001b[0;34m,\u001b[0m \u001b[0mcost\u001b[0m \u001b[0;34m=\u001b[0m \u001b[0mpropagate\u001b[0m\u001b[0;34m(\u001b[0m\u001b[0mW\u001b[0m\u001b[0;34m,\u001b[0m\u001b[0mb\u001b[0m\u001b[0;34m,\u001b[0m\u001b[0mx\u001b[0m\u001b[0;34m,\u001b[0m\u001b[0my\u001b[0m\u001b[0;34m)\u001b[0m\u001b[0;34m\u001b[0m\u001b[0;34m\u001b[0m\u001b[0m\n\u001b[0m\u001b[1;32m      7\u001b[0m         \u001b[0mW\u001b[0m \u001b[0;34m=\u001b[0m \u001b[0mW\u001b[0m \u001b[0;34m-\u001b[0m \u001b[0mlearning_rate\u001b[0m\u001b[0;34m*\u001b[0m\u001b[0mgrads\u001b[0m\u001b[0;34m[\u001b[0m\u001b[0;34m\"dW\"\u001b[0m\u001b[0;34m]\u001b[0m\u001b[0;34m\u001b[0m\u001b[0;34m\u001b[0m\u001b[0m\n\u001b[1;32m      8\u001b[0m         \u001b[0mb\u001b[0m \u001b[0;34m=\u001b[0m \u001b[0mb\u001b[0m \u001b[0;34m-\u001b[0m \u001b[0mlearning_rate\u001b[0m\u001b[0;34m*\u001b[0m\u001b[0mgrads\u001b[0m\u001b[0;34m[\u001b[0m\u001b[0;34m\"db\"\u001b[0m\u001b[0;34m]\u001b[0m\u001b[0;34m\u001b[0m\u001b[0;34m\u001b[0m\u001b[0m\n",
      "\u001b[0;32m<ipython-input-46-66fae6a06df0>\u001b[0m in \u001b[0;36mpropagate\u001b[0;34m(W, b, x, y)\u001b[0m\n\u001b[1;32m     16\u001b[0m     \u001b[0mZ\u001b[0m \u001b[0;34m=\u001b[0m \u001b[0mnp\u001b[0m\u001b[0;34m.\u001b[0m\u001b[0mdot\u001b[0m\u001b[0;34m(\u001b[0m\u001b[0mW\u001b[0m\u001b[0;34m,\u001b[0m\u001b[0mx\u001b[0m\u001b[0;34m)\u001b[0m \u001b[0;34m+\u001b[0m \u001b[0mb\u001b[0m\u001b[0;34m\u001b[0m\u001b[0;34m\u001b[0m\u001b[0m\n\u001b[1;32m     17\u001b[0m     \u001b[0mZ\u001b[0m \u001b[0;34m=\u001b[0m \u001b[0mZ\u001b[0m\u001b[0;34m.\u001b[0m\u001b[0mreshape\u001b[0m\u001b[0;34m(\u001b[0m\u001b[0;34m(\u001b[0m\u001b[0;36m1\u001b[0m\u001b[0;34m,\u001b[0m\u001b[0mm\u001b[0m\u001b[0;34m)\u001b[0m\u001b[0;34m)\u001b[0m\u001b[0;34m\u001b[0m\u001b[0;34m\u001b[0m\u001b[0m\n\u001b[0;32m---> 18\u001b[0;31m     \u001b[0mA\u001b[0m \u001b[0;34m=\u001b[0m \u001b[0;36m1\u001b[0m\u001b[0;34m/\u001b[0m\u001b[0;34m(\u001b[0m\u001b[0;36m1\u001b[0m\u001b[0;34m+\u001b[0m\u001b[0mnp\u001b[0m\u001b[0;34m.\u001b[0m\u001b[0mexp\u001b[0m\u001b[0;34m(\u001b[0m\u001b[0;34m-\u001b[0m\u001b[0mZ\u001b[0m\u001b[0;34m)\u001b[0m\u001b[0;34m)\u001b[0m\u001b[0;34m\u001b[0m\u001b[0;34m\u001b[0m\u001b[0m\n\u001b[0m\u001b[1;32m     19\u001b[0m     \u001b[0mcost\u001b[0m \u001b[0;34m-\u001b[0m\u001b[0;36m1\u001b[0m\u001b[0;34m*\u001b[0m\u001b[0mnp\u001b[0m\u001b[0;34m.\u001b[0m\u001b[0msum\u001b[0m\u001b[0;34m(\u001b[0m\u001b[0mnp\u001b[0m\u001b[0;34m.\u001b[0m\u001b[0mdot\u001b[0m\u001b[0;34m(\u001b[0m\u001b[0mY\u001b[0m\u001b[0;34m,\u001b[0m\u001b[0mnp\u001b[0m\u001b[0;34m.\u001b[0m\u001b[0mlog\u001b[0m\u001b[0;34m(\u001b[0m\u001b[0mA\u001b[0m\u001b[0;34m)\u001b[0m\u001b[0;34m.\u001b[0m\u001b[0mT\u001b[0m\u001b[0;34m)\u001b[0m \u001b[0;34m+\u001b[0m \u001b[0mnp\u001b[0m\u001b[0;34m.\u001b[0m\u001b[0mdot\u001b[0m\u001b[0;34m(\u001b[0m\u001b[0;34m(\u001b[0m\u001b[0;36m1\u001b[0m\u001b[0;34m-\u001b[0m\u001b[0mY\u001b[0m\u001b[0;34m)\u001b[0m\u001b[0;34m,\u001b[0m\u001b[0mnp\u001b[0m\u001b[0;34m.\u001b[0m\u001b[0mlog\u001b[0m\u001b[0;34m(\u001b[0m\u001b[0;36m1\u001b[0m\u001b[0;34m-\u001b[0m\u001b[0mA\u001b[0m\u001b[0;34m)\u001b[0m\u001b[0;34m.\u001b[0m\u001b[0mT\u001b[0m\u001b[0;34m)\u001b[0m\u001b[0;34m)\u001b[0m\u001b[0;34m/\u001b[0m\u001b[0mm\u001b[0m\u001b[0;34m\u001b[0m\u001b[0;34m\u001b[0m\u001b[0m\n\u001b[1;32m     20\u001b[0m     \u001b[0mcost\u001b[0m \u001b[0;34m=\u001b[0m \u001b[0mnp\u001b[0m\u001b[0;34m.\u001b[0m\u001b[0msqueeze\u001b[0m\u001b[0;34m(\u001b[0m\u001b[0mcost\u001b[0m\u001b[0;34m)\u001b[0m\u001b[0;34m\u001b[0m\u001b[0;34m\u001b[0m\u001b[0m\n",
      "\u001b[0;31mAttributeError\u001b[0m: 'float' object has no attribute 'exp'"
     ]
    }
   ],
   "source": [
    "y_pred_test,costs = model(X_train, Y_train_orig, X_test, num_iter = 2000, learning_rate = 0.001)\n",
    "print(y_pred_test)"
   ]
  },
  {
   "cell_type": "code",
   "execution_count": null,
   "metadata": {},
   "outputs": [],
   "source": []
  },
  {
   "cell_type": "code",
   "execution_count": null,
   "metadata": {},
   "outputs": [],
   "source": []
  },
  {
   "cell_type": "code",
   "execution_count": null,
   "metadata": {},
   "outputs": [],
   "source": []
  },
  {
   "cell_type": "code",
   "execution_count": null,
   "metadata": {},
   "outputs": [],
   "source": []
  }
 ],
 "metadata": {
  "kernelspec": {
   "display_name": "Python 3",
   "language": "python",
   "name": "python3"
  },
  "language_info": {
   "codemirror_mode": {
    "name": "ipython",
    "version": 3
   },
   "file_extension": ".py",
   "mimetype": "text/x-python",
   "name": "python",
   "nbconvert_exporter": "python",
   "pygments_lexer": "ipython3",
   "version": "3.7.3"
  }
 },
 "nbformat": 4,
 "nbformat_minor": 2
}
