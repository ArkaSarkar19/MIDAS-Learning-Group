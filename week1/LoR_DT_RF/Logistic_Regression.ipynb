{
 "cells": [
  {
   "cell_type": "code",
   "execution_count": 17,
   "metadata": {},
   "outputs": [],
   "source": [
    "import numpy as np\n",
    "import tensorflow as tf\n",
    "from utils import * \n",
    "import matplotlib.pyplot as plt"
   ]
  },
  {
   "cell_type": "code",
   "execution_count": 18,
   "metadata": {},
   "outputs": [
    {
     "name": "stdout",
     "output_type": "stream",
     "text": [
      "[[3 1 3 ... 3 1 3]\n",
      " ['male' 'female' 'female' ... 'female' 'male' 'male']\n",
      " [22.0 38.0 26.0 ... 29.69911764705882 26.0 32.0]\n",
      " [1 1 0 ... 1 0 0]\n",
      " [0 0 0 ... 2 0 0]\n",
      " [7.25 71.2833 7.925 ... 23.45 30.0 7.75]]\n",
      "(1, 891)\n",
      "[[0. 1. 1. 1. 0. 0. 0. 0. 1. 1. 1. 1. 0. 0. 0. 1. 0. 1. 0. 1. 0. 1. 1. 1.\n",
      "  0. 1. 0. 0. 1. 0. 0. 1. 1. 0. 0. 0. 1. 0. 0. 1. 0. 0. 0. 1. 1. 0. 0. 1.\n",
      "  0. 0. 0. 0. 1. 1. 0. 1. 1. 0. 1. 0. 0. 1. 0. 0. 0. 1. 1. 0. 1. 0. 0. 0.\n",
      "  0. 0. 1. 0. 0. 0. 1. 1. 0. 1. 1. 0. 1. 1. 0. 0. 1. 0. 0. 0. 0. 0. 0. 0.\n",
      "  0. 1. 1. 0. 0. 0. 0. 0. 0. 0. 1. 1. 0. 1. 0. 0. 0. 0. 0. 0. 0. 0. 0. 0.\n",
      "  0. 0. 0. 1. 0. 1. 0. 1. 1. 0. 0. 0. 0. 1. 0. 0. 1. 0. 0. 0. 0. 1. 1. 0.\n",
      "  0. 0. 1. 0. 0. 0. 0. 1. 0. 0. 0. 0. 1. 0. 0. 0. 0. 1. 0. 0. 0. 1. 1. 0.\n",
      "  0. 0. 0. 0. 1. 0. 0. 0. 0. 0. 0. 0. 0. 0. 0. 1. 1. 0. 1. 1. 0. 0. 1. 0.\n",
      "  1. 1. 1. 1. 0. 0. 1. 0. 0. 0. 0. 0. 1. 0. 0. 1. 1. 1. 0. 1. 0. 0. 0. 1.\n",
      "  1. 0. 1. 0. 1. 0. 0. 0. 1. 0. 1. 0. 0. 0. 1. 0. 0. 1. 0. 0. 0. 1. 0. 0.\n",
      "  0. 1. 0. 0. 0. 0. 0. 1. 1. 0. 0. 0. 0. 0. 0. 1. 1. 1. 1. 1. 0. 1. 0. 0.\n",
      "  0. 0. 0. 1. 1. 1. 0. 1. 1. 0. 1. 1. 0. 0. 0. 1. 0. 0. 0. 1. 0. 0. 1. 0.\n",
      "  1. 1. 1. 1. 0. 0. 0. 0. 0. 0. 1. 1. 1. 1. 0. 1. 0. 1. 1. 1. 0. 1. 1. 1.\n",
      "  0. 0. 0. 1. 1. 0. 1. 1. 0. 0. 1. 1. 0. 1. 0. 1. 1. 1. 1. 0. 0. 0. 1. 0.\n",
      "  0. 1. 1. 0. 1. 1. 0. 0. 0. 1. 1. 1. 1. 0. 0. 0. 0. 0. 0. 0. 1. 0. 1. 1.\n",
      "  0. 0. 0. 0. 0. 0. 1. 1. 1. 1. 1. 0. 0. 0. 0. 1. 1. 0. 0. 0. 1. 1. 0. 1.\n",
      "  0. 0. 0. 1. 0. 1. 1. 1. 0. 1. 1. 0. 0. 0. 0. 1. 1. 0. 0. 0. 0. 0. 0. 1.\n",
      "  0. 0. 0. 0. 1. 0. 1. 0. 1. 1. 0. 0. 0. 0. 0. 0. 0. 0. 1. 1. 0. 1. 1. 1.\n",
      "  1. 0. 0. 1. 0. 1. 0. 0. 1. 0. 0. 1. 1. 1. 1. 1. 1. 1. 0. 0. 0. 1. 0. 1.\n",
      "  0. 1. 1. 0. 1. 0. 0. 0. 0. 0. 0. 0. 0. 1. 0. 0. 1. 1. 0. 0. 0. 0. 0. 1.\n",
      "  0. 0. 0. 1. 1. 0. 1. 0. 0. 1. 0. 0. 0. 0. 0. 0. 1. 0. 0. 0. 0. 0. 0. 0.\n",
      "  1. 0. 1. 1. 0. 1. 1. 0. 1. 1. 0. 0. 1. 0. 1. 0. 1. 0. 0. 1. 0. 0. 1. 0.\n",
      "  0. 0. 1. 0. 0. 1. 0. 1. 0. 1. 0. 1. 1. 0. 0. 1. 0. 0. 1. 1. 0. 1. 1. 0.\n",
      "  0. 1. 1. 0. 1. 0. 1. 1. 0. 0. 0. 0. 0. 0. 0. 0. 0. 1. 1. 1. 1. 1. 0. 0.\n",
      "  1. 1. 0. 1. 1. 1. 0. 0. 0. 1. 0. 1. 0. 0. 0. 1. 0. 0. 0. 0. 1. 0. 0. 1.\n",
      "  1. 0. 0. 0. 1. 0. 0. 1. 1. 1. 0. 0. 1. 0. 0. 1. 0. 0. 1. 0. 0. 1. 1. 0.\n",
      "  0. 0. 0. 1. 0. 0. 1. 0. 1. 0. 0. 1. 0. 0. 0. 0. 0. 1. 0. 1. 1. 1. 0. 1.\n",
      "  0. 1. 0. 1. 0. 1. 0. 0. 0. 0. 0. 0. 1. 0. 0. 0. 1. 0. 0. 0. 0. 1. 1. 0.\n",
      "  0. 1. 0. 0. 0. 1. 0. 1. 0. 1. 0. 0. 0. 0. 0. 0. 0. 1. 1. 1. 1. 0. 0. 0.\n",
      "  0. 1. 0. 0. 1. 1. 0. 0. 0. 0. 1. 1. 1. 1. 1. 0. 1. 0. 0. 0. 1. 1. 0. 0.\n",
      "  1. 0. 0. 0. 1. 0. 1. 1. 0. 0. 1. 0. 0. 0. 0. 0. 0. 1. 0. 0. 1. 0. 1. 0.\n",
      "  1. 0. 0. 1. 0. 0. 1. 1. 0. 0. 1. 1. 0. 0. 0. 1. 0. 0. 1. 1. 0. 1. 0. 0.\n",
      "  0. 0. 0. 0. 0. 0. 1. 0. 0. 1. 0. 1. 1. 1. 0. 0. 0. 0. 1. 0. 1. 0. 0. 0.\n",
      "  0. 0. 0. 0. 1. 1. 0. 0. 0. 1. 1. 1. 1. 0. 0. 0. 0. 1. 0. 0. 0. 0. 0. 0.\n",
      "  0. 0. 0. 0. 1. 1. 0. 1. 0. 0. 0. 1. 1. 1. 1. 1. 0. 0. 0. 1. 0. 0. 1. 1.\n",
      "  0. 0. 1. 0. 0. 0. 0. 0. 0. 1. 0. 0. 0. 1. 0. 1. 1. 1. 1. 0. 0. 0. 1. 0.\n",
      "  0. 1. 1. 0. 0. 1. 0. 1. 0. 0. 1. 1. 0. 0. 0. 1. 1. 0. 0. 0. 0. 0. 0. 1.\n",
      "  0. 1. 0.]]\n",
      "[[3 3 2 ... 3 3 3]\n",
      " ['male' 'female' 'male' ... 'male' 'male' 'male']\n",
      " [34.5 47.0 62.0 ... 38.5 30.272590361445783 30.272590361445783]\n",
      " [0 1 0 ... 0 0 1]\n",
      " [0 0 0 ... 0 0 1]\n",
      " [7.8292 7.0 9.6875 ... 7.25 8.05 22.3583]]\n"
     ]
    }
   ],
   "source": [
    "X_train_orig, Y_train_orig, X_test_orig = load_datasets()\n",
    "Y_train_orig = Y_train_orig.astype('float64')\n",
    "Y_train_orig = Y_train_orig.reshape(1,len(Y_train_orig))\n",
    "print(X_train_orig)\n",
    "print(Y_train_orig.shape)\n",
    "print(Y_train_orig)\n",
    "print(X_test_orig)"
   ]
  },
  {
   "cell_type": "code",
   "execution_count": 19,
   "metadata": {},
   "outputs": [
    {
     "name": "stdout",
     "output_type": "stream",
     "text": [
      "[[0.8273772438659676 -1.5661069258891531 0.8273772438659676 ...\n",
      "  0.8273772438659676 -1.5661069258891531 0.8273772438659676]\n",
      " [-0.7376951317802897 1.3555735383351184 1.3555735383351184 ...\n",
      "  1.3555735383351184 -0.7376951317802897 -0.7376951317802897]\n",
      " [-0.5924805998028886 0.638789012042525 -0.2846631968415352 ...\n",
      "  4.374348392294584e-15 -0.2846631968415352 0.17706290760049492]\n",
      " [0.43279336567850346 0.43279336567850346 -0.4745451962498414 ...\n",
      "  0.43279336567850346 -0.4745451962498414 -0.4745451962498414]\n",
      " [-0.473673609298456 -0.473673609298456 -0.473673609298456 ...\n",
      "  2.0089333664952163 -0.473673609298456 -0.473673609298456]\n",
      " [-0.5024451714361915 0.7868452935884467 -0.4888542575852478 ...\n",
      "  -0.1762632390135436 -0.0443810379414236 -0.49237782784289985]]\n",
      "[[0.8734819050636105 0.8734819050636105 -0.3158191904301653 ...\n",
      "  0.8734819050636105 0.8734819050636105 0.8734819050636105]\n",
      " [-0.755928946018455 1.322875655532296 -0.755928946018455 ...\n",
      "  -0.755928946018455 -0.755928946018455 -0.755928946018455]\n",
      " [0.3349925991279998 1.325530031533564 2.514174950420241 ...\n",
      "  0.6519645774977804 -2.533749037539246e-15 -2.533749037539246e-15]\n",
      " [-0.4994700165357186 0.6169923733676523 -0.4994700165357186 ...\n",
      "  -0.4994700165357186 -0.4994700165357186 0.6169923733676523]\n",
      " [-0.4002477016385638 -0.4002477016385638 -0.4002477016385638 ...\n",
      "  -0.4002477016385638 -0.4002477016385638 0.6198958305865561]\n",
      " [-0.4981718976707336 -0.5130389656780081 -0.46485367229938984 ...\n",
      "  -0.5085566128055785 -0.4942130836138038 -0.23767368519546578]]\n",
      "(6, 891)\n",
      "(6, 418)\n"
     ]
    }
   ],
   "source": [
    "X_train, X_test = pre_process_data(X_train_orig, X_test_orig)\n",
    "print(X_train)\n",
    "print(X_test)\n",
    "print(X_train.shape)\n",
    "print(X_test.shape)"
   ]
  },
  {
   "cell_type": "code",
   "execution_count": 20,
   "metadata": {},
   "outputs": [],
   "source": [
    "def initialize_parameters(dim):\n",
    "    \"\"\"initialize W as random of size  (dim,1) and b = 0\"\"\"\n",
    "    W = np.zeros((dim,1))\n",
    "    b = 0\n",
    "\n",
    "    return W,b\n"
   ]
  },
  {
   "cell_type": "code",
   "execution_count": 21,
   "metadata": {},
   "outputs": [],
   "source": [
    "def propagate(W,b,x,y):\n",
    "    \"\"\"One step of forwards propagation and calculate gradients\n",
    "    Arguments : \n",
    "    W-> weights\n",
    "    b -> bias\n",
    "    x -> input\n",
    "    y -> ground truth \n",
    "    Returns:\n",
    "    grads : dict of gradients \n",
    "    cost : cost \n",
    "                \n",
    "    \"\"\"\n",
    "    \n",
    "    #number of training examples\n",
    "    m = x.shape[1]    \n",
    "    Z = np.dot(W.T,x) + b\n",
    "    Z = Z.astype('float64')\n",
    "    A = sigmoid(Z)\n",
    "    cost = -np.sum(np.dot(y,np.log(A).T) + np.dot((1-y),np.log(1-A).T))/m    \n",
    "    cost = np.squeeze(cost)\n",
    "\n",
    "    #gradients \n",
    "    dW = np.dot(x,(A-y).T)/m\n",
    "    db = np.sum(A-y)/m\n",
    "#     print(dW.shape)\n",
    "#     print(db.shape)\n",
    "#     print(\"dW \", dW)\n",
    "#     print(\"db \", db)\n",
    "\n",
    "    grads = {\"dW\" : dW, \"db\" : db}\n",
    "    return grads, cost\n",
    "    \n",
    "\n"
   ]
  },
  {
   "cell_type": "code",
   "execution_count": 27,
   "metadata": {},
   "outputs": [],
   "source": [
    "def optimize(W,b,x,y, num_iters, learning_rate):\n",
    "    \n",
    "    cost_history = []\n",
    "    for i in range(num_iters):\n",
    "        \n",
    "        grads, cost = propagate(W,b,x,y)\n",
    "        W = W - learning_rate*grads[\"dW\"]\n",
    "        b = b - learning_rate*grads[\"db\"]\n",
    "        cost_history.append(cost)\n",
    "        \n",
    "        if(i%500 == 0):\n",
    "            print(\"cost after \", i, \" iterations is \", cost)\n",
    "    \n",
    "    parameters = {\"W\" : W, \"b\" : b}\n",
    "    \n",
    "    return parameters, cost_history\n",
    "\n"
   ]
  },
  {
   "cell_type": "code",
   "execution_count": 28,
   "metadata": {},
   "outputs": [],
   "source": [
    "def predict(W,b,x):\n",
    "    \n",
    "    m = x.shape[1]\n",
    "    Z = np.dot(W.T,x) + b\n",
    "    Z = Z.astype('float64')\n",
    "    A = sigmoid(Z)\n",
    "    \n",
    "    y_pred = np.zeros((1,m))\n",
    "    \n",
    "    for i in range(A.shape[1]):\n",
    "        if(A[0,i] <=0.5):\n",
    "            y_pred[0,i] = 0\n",
    "        else:\n",
    "            y_pred[0,i] = 1\n",
    "    \n",
    "    return y_pred\n"
   ]
  },
  {
   "cell_type": "code",
   "execution_count": 25,
   "metadata": {},
   "outputs": [],
   "source": [
    "def model(X_train , Y_train , X_test, num_iter, learning_rate, plot_cost = True):\n",
    "    \n",
    "    dim = X_train.shape[0]\n",
    "    \n",
    "    W,b = initialize_parameters(dim)\n",
    "    W = W.astype('float64')\n",
    "    parameters, costs = optimize(W,b,X_train, Y_train, num_iter, learning_rate)\n",
    "    \n",
    "    W = parameters[\"W\"]\n",
    "    b = parameters[\"b\"]\n",
    "    \n",
    "    y_pred_test = predict(W,b,X_test)\n",
    "    y_pred_train = predict(W,b,X_train)\n",
    "    \n",
    "    train_accuracy = 100 - np.mean(np.abs(y_pred_train - Y_train))*100\n",
    "    print(\"Training Accuracy : \", train_accuracy)\n",
    "    if(plot_cost):\n",
    "        costs = np.squeeze(costs) \n",
    "        plt.plot(costs) \n",
    "        plt.xlabel(\"Iterations\")\n",
    "        plt.ylabel(\"Cost\")\n",
    "        plt.show()\n",
    "        \n",
    "    return y_pred_test,costs\n",
    "\n"
   ]
  },
  {
   "cell_type": "code",
   "execution_count": 29,
   "metadata": {},
   "outputs": [
    {
     "name": "stdout",
     "output_type": "stream",
     "text": [
      "cost after  0  iterations is  0.6931471805599452\n",
      "cost after  500  iterations is  0.4839241076031926\n",
      "cost after  1000  iterations is  0.4561678366933778\n",
      "cost after  1500  iterations is  0.44832916214045454\n",
      "cost after  2000  iterations is  0.44536606910271986\n",
      "cost after  2500  iterations is  0.4440498546343714\n",
      "cost after  3000  iterations is  0.443401749982681\n",
      "cost after  3500  iterations is  0.44305982098181323\n",
      "cost after  4000  iterations is  0.44287079796648543\n",
      "cost after  4500  iterations is  0.4427629619531288\n",
      "cost after  5000  iterations is  0.44270013500958966\n",
      "cost after  5500  iterations is  0.4426630169770552\n",
      "cost after  6000  iterations is  0.44264088475820984\n",
      "cost after  6500  iterations is  0.44262760750434893\n",
      "cost after  7000  iterations is  0.44261961016421547\n",
      "cost after  7500  iterations is  0.4426147800558754\n",
      "cost after  8000  iterations is  0.4426118574912533\n",
      "cost after  8500  iterations is  0.44261008689217113\n",
      "cost after  9000  iterations is  0.44260901324211194\n",
      "cost after  9500  iterations is  0.44260836178795016\n",
      "Training Accuracy :  79.46127946127946\n"
     ]
    },
    {
     "data": {
      "image/png": "[encoded data removed]",
      "text/plain": [
       "<Figure size 432x288 with 1 Axes>"
      ]
     },
     "metadata": {
      "needs_background": "light"
     },
     "output_type": "display_data"
    },
    {
     "name": "stdout",
     "output_type": "stream",
     "text": [
      "[[0. 0. 0. 0. 1. 0. 1. 0. 1. 0. 0. 0. 1. 0. 1. 1. 0. 0. 1. 0. 0. 0. 1. 1.\n",
      "  1. 0. 1. 0. 0. 0. 0. 0. 0. 0. 0. 0. 1. 1. 0. 0. 0. 0. 0. 1. 1. 0. 0. 0.\n",
      "  1. 1. 0. 0. 1. 1. 0. 0. 0. 0. 0. 1. 0. 0. 0. 1. 1. 1. 1. 0. 0. 1. 1. 0.\n",
      "  1. 0. 1. 1. 0. 1. 0. 1. 0. 0. 0. 0. 0. 0. 1. 1. 1. 0. 1. 0. 1. 0. 1. 0.\n",
      "  1. 0. 1. 0. 1. 0. 0. 0. 1. 0. 0. 0. 0. 0. 0. 1. 1. 1. 1. 0. 0. 1. 0. 1.\n",
      "  1. 0. 1. 0. 0. 1. 0. 0. 0. 0. 0. 0. 1. 0. 0. 0. 0. 0. 1. 0. 0. 1. 0. 0.\n",
      "  0. 0. 0. 0. 0. 0. 1. 0. 0. 1. 0. 0. 1. 1. 0. 1. 1. 0. 1. 0. 0. 1. 0. 0.\n",
      "  1. 1. 0. 0. 0. 0. 0. 1. 1. 0. 1. 1. 0. 0. 1. 0. 1. 0. 1. 0. 0. 0. 0. 0.\n",
      "  0. 0. 0. 0. 1. 1. 0. 1. 1. 0. 0. 1. 0. 0. 1. 0. 1. 0. 0. 0. 0. 0. 0. 0.\n",
      "  1. 0. 1. 0. 1. 0. 1. 0. 1. 1. 0. 1. 0. 0. 0. 1. 0. 0. 0. 0. 0. 0. 1. 1.\n",
      "  1. 1. 0. 0. 0. 0. 1. 0. 1. 1. 1. 0. 0. 0. 0. 0. 0. 0. 1. 0. 0. 0. 1. 1.\n",
      "  0. 0. 0. 0. 1. 0. 0. 0. 1. 1. 0. 1. 0. 0. 0. 0. 1. 0. 1. 1. 1. 0. 0. 0.\n",
      "  0. 0. 0. 1. 0. 0. 0. 0. 1. 0. 0. 0. 0. 0. 0. 0. 1. 1. 0. 0. 0. 0. 0. 0.\n",
      "  0. 1. 1. 1. 0. 0. 0. 0. 0. 0. 0. 0. 1. 0. 1. 0. 0. 0. 1. 0. 0. 1. 0. 0.\n",
      "  0. 0. 0. 0. 0. 0. 0. 1. 0. 1. 0. 1. 0. 1. 1. 0. 0. 0. 1. 0. 1. 0. 0. 1.\n",
      "  0. 1. 1. 0. 1. 0. 0. 1. 1. 0. 0. 1. 0. 0. 1. 1. 0. 0. 0. 0. 0. 0. 1. 1.\n",
      "  0. 1. 0. 0. 0. 0. 1. 1. 0. 0. 0. 1. 0. 1. 0. 0. 1. 0. 1. 1. 0. 0. 0. 0.\n",
      "  1. 1. 1. 1. 1. 0. 1. 0. 0. 0.]]\n"
     ]
    }
   ],
   "source": [
    "y_pred_test,costs = model(X_train, Y_train_orig, X_test, num_iter = 10000, learning_rate = 0.01)\n",
    "print(y_pred_test)"
   ]
  },
  {
   "cell_type": "code",
   "execution_count": null,
   "metadata": {},
   "outputs": [],
   "source": []
  },
  {
   "cell_type": "code",
   "execution_count": null,
   "metadata": {},
   "outputs": [],
   "source": []
  },
  {
   "cell_type": "code",
   "execution_count": null,
   "metadata": {},
   "outputs": [],
   "source": []
  },
  {
   "cell_type": "code",
   "execution_count": null,
   "metadata": {},
   "outputs": [],
   "source": []
  },
  {
   "cell_type": "code",
   "execution_count": null,
   "metadata": {},
   "outputs": [],
   "source": []
  },
  {
   "cell_type": "code",
   "execution_count": null,
   "metadata": {},
   "outputs": [],
   "source": []
  },
  {
   "cell_type": "code",
   "execution_count": null,
   "metadata": {},
   "outputs": [],
   "source": []
  },
  {
   "cell_type": "code",
   "execution_count": null,
   "metadata": {},
   "outputs": [],
   "source": []
  },
  {
   "cell_type": "code",
   "execution_count": null,
   "metadata": {},
   "outputs": [],
   "source": []
  }
 ],
 "metadata": {
  "kernelspec": {
   "display_name": "Python 3",
   "language": "python",
   "name": "python3"
  },
  "language_info": {
   "codemirror_mode": {
    "name": "ipython",
    "version": 3
   },
   "file_extension": ".py",
   "mimetype": "text/x-python",
   "name": "python",
   "nbconvert_exporter": "python",
   "pygments_lexer": "ipython3",
   "version": "3.7.3"
  }
 },
 "nbformat": 4,
 "nbformat_minor": 2
}
