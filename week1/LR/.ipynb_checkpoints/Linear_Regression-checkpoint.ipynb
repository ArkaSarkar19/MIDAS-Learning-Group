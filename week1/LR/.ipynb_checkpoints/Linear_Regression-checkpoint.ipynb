{
 "cells": [
  {
   "cell_type": "code",
   "execution_count": 2,
   "metadata": {},
   "outputs": [],
   "source": [
    "import numpy as np\n",
    "import tensorflow as tf\n",
    "from utils import *\n",
    "import matplotlib.pyplot as plt"
   ]
  },
  {
   "cell_type": "code",
   "execution_count": 3,
   "metadata": {},
   "outputs": [],
   "source": [
    "x_train_orig, y_train_orig, x_test_orig = load_dataset()"
   ]
  },
  {
   "cell_type": "code",
   "execution_count": 4,
   "metadata": {},
   "outputs": [
    {
     "name": "stdout",
     "output_type": "stream",
     "text": [
      "[[60 'RL' 65.0 ... 2008 'WD' 'Normal']\n",
      " [20 'RL' 80.0 ... 2007 'WD' 'Normal']\n",
      " [60 'RL' 68.0 ... 2008 'WD' 'Normal']\n",
      " ...\n",
      " [70 'RL' 66.0 ... 2010 'WD' 'Normal']\n",
      " [20 'RL' 68.0 ... 2010 'WD' 'Normal']\n",
      " [20 'RL' 75.0 ... 2008 'WD' 'Normal']]\n",
      "[208500 181500 223500 ... 266500 142125 147500]\n",
      "[[20 'RH' 80.0 ... 2010 'WD' 'Normal']\n",
      " [20 'RL' 81.0 ... 2010 'WD' 'Normal']\n",
      " [60 'RL' 74.0 ... 2010 'WD' 'Normal']\n",
      " ...\n",
      " [20 'RL' 160.0 ... 2006 'WD' 'Abnorml']\n",
      " [85 'RL' 62.0 ... 2006 'WD' 'Normal']\n",
      " [60 'RL' 74.0 ... 2006 'WD' 'Normal']]\n"
     ]
    }
   ],
   "source": [
    "print(x_train_orig)\n",
    "print(y_train_orig)\n",
    "print(x_test_orig)"
   ]
  },
  {
   "cell_type": "code",
   "execution_count": 289,
   "metadata": {},
   "outputs": [
    {
     "name": "stdout",
     "output_type": "stream",
     "text": [
      "[[0.07337496353744842 -0.8725627562389296 0.07337496353744842 ...\n",
      "  0.30985939348154296 -0.8725627562389296 -0.8725627562389296]\n",
      " [0.20612744611588027 0.6464504143111381 0.29419203975493174 ...\n",
      "  0.23548231066223077 0.29419203975493174 0.49967609157938536]\n",
      " [-0.20714170777431115 -0.09188637231949028 0.07347997855047016 ...\n",
      "  -0.14781026552278595 -0.08016039471234762 -0.05811154792968614]\n",
      " ...\n",
      " [0.138777488949759 -0.6144386220786723 0.138777488949759 ...\n",
      "  1.6452097110066215 1.6452097110066215 0.138777488949759]\n",
      " [-0.34974842420759517 -0.34974842420759517 -0.34974842420759517 ...\n",
      "  -0.34974842420759517 -0.34974842420759517 -0.34974842420759517]\n",
      " [-0.4181126151188894 -0.4181126151188894 -0.4181126151188894 ...\n",
      "  -0.4181126151188894 -0.4181126151188894 -0.4181126151188894]]\n",
      "(74, 1459)\n",
      "[[-0.874710805261838 -0.874710805261838 0.06135085413269516 ...\n",
      "  -0.874710805261838 0.6463893912542783 0.06135085413269516]\n",
      " [0.6870293694147481 0.7185754229151766 0.4977530484121769 ...\n",
      "  3.2107136494490343 0.11920040640703422 0.4977530484121769]\n",
      " [0.36392912451766257 0.8978606465841877 0.8096458733731967 ...\n",
      "  2.0551496507457716 0.1255271859314371 -0.03879049231512305]\n",
      " ...\n",
      " [1.7139053747951312 1.7139053747951312 1.7139053747951312 ...\n",
      "  -1.3599581062449466 -1.3599581062449466 -1.3599581062449466]\n",
      " [-0.3551333185048411 -0.3551333185048411 -0.3551333185048411 ...\n",
      "  -0.3551333185048411 -0.3551333185048411 -0.3551333185048411]\n",
      " [-0.40415578853884615 -0.40415578853884615 -0.40415578853884615 ...\n",
      "  1.5352487296933905 -0.40415578853884615 -0.40415578853884615]]\n",
      "(74, 1460)\n",
      "{'ta': 1, 'notavailable': 2, 'norm': 3, 'y': 4, 'gd': 5, 'unf': 6, 'wd': 7, 'pave': 8, 'allpub': 9, 'compshg': 10, 'gasa': 11, 'gtl': 12, 'typ': 13, 'sbrkr': 14, 'lvl': 15, '1fam': 16, 'normal': 17, 'rl': 18, 'gable': 19, 'inside': 20, 'ex': 21, 'vinylsd': 22, 'no': 23, 'reg': 24, 'attchd': 25, 'none': 26, '1story': 27, 'pconc': 28, 'cblock': 29, 'brkface': 30, 'ir1': 31, '2story': 32, 'metalsd': 33, 'glq': 34, 'hdboard': 35, 'rfn': 36, 'sdng': 37, 'detchd': 38, 'fin': 39, 'fa': 40, 'hip': 41, 'corner': 42, 'plywood': 43, 'alq': 44, 'names': 45, 'av': 46, 'rm': 47, 'rec': 48, 'n': 49, 'blq': 50, '1': 51, '5fin': 52, 'mnprv': 53, 'collgcr': 54, 'brktil': 55, 'stone': 56, 'partial': 57, 'new': 58, 'lwq': 59, 'twnhse': 60, 'mn': 61, 'oldtown': 62, 'abnorml': 63, 'edwards': 64, 'culdsac': 65, 'fusea': 66, 'builtin': 67, 'feedr': 68, 'somerst': 69, 'mod': 70, 'gilbert': 71, 'nridght': 72, 'sawyer': 73, 'nwames': 74, 'fv': 75, 'slvl': 76, 'bnk': 77, 'cemntbd': 78, 'cmentbd': 79, 'sawyerw': 80, 'gdprv': 81, 'brkside': 82, 'grvl': 83, 'gdwo': 84, 'duplex': 85, 'crawfor': 86, 'shed': 87, 'stucco': 88, 'hls': 89, 'artery': 90, 'mitchel': 91, 'fr2': 92, 'twnhs': 93, 'cod': 94, 'ir2': 95, 'noridge': 96, 'asbshng': 97, 'timber': 98, 'shng': 99, 'idotrr': 100, 'sfoyer': 101, 'low': 102, 'po': 103, 'min2': 104, '2fmcon': 105, 'min1': 106, 'p': 107, 'clearcr': 108, 'rran': 109, 'fusef': 110, 'wdshing': 111, 'stonebr': 112, 'swisu': 113, '5unf': 114, 'slab': 115, 'posn': 116, 'family': 117, '2': 118, 'basment': 119, 'gasw': 120, 'meadowv': 121, 'blmngtn': 122, 'rh': 123, 'brdale': 124, 'brkcmn': 125, 'sev': 126, 'maj1': 127, 'flat': 128, 'rrae': 129, 'alloca': 130, 'veenker': 131, 'gambrel': 132, 'tar': 133, 'grv': 134, 'imstucc': 135, 'mnww': 136, 'c': 137, 'all': 138, 'ir3': 139, 'npkvill': 140, 'posa': 141, 'carport': 142, 'conld': 143, 'rrnn': 144, 'mansard': 145, 'brk': 146, 'cmn': 147, 'grav': 148, 'wdshngl': 149, '2types': 150, 'wdshake': 151, 'maj2': 152, 'conli': 153, 'conlw': 154, 'fr3': 155, 'asphshn': 156, 'wall': 157, 'cwd': 158, 'adjland': 159, 'wood': 160, 'fusep': 161, 'oth': 162, 'blueste': 163, 'rrne': 164, 'brkcomm': 165, 'othw': 166, 'gar2': 167, 'othr': 168, 'con': 169, 'nosewa': 170, 'metal': 171, 'membran': 172, 'roll': 173, 'clytile': 174, 'other': 175, 'floor': 176, 'mix': 177, 'tenc': 178}\n"
     ]
    }
   ],
   "source": [
    "x_train,x_test, word_index = preprocess_dataset(x_train_orig, x_test_orig)\n",
    "\n",
    "x_train = x_train.T\n",
    "x_test = x_test.T\n",
    "# x_train = x_train[[16,45], :]\n",
    "# x_test = x_test[[16,45], : ]\n",
    "x_train = np.delete(x_train, [1,15,21,22,23], axis = 0)\n",
    "x_test = np.delete(x_test, [1,15,21,22,23], axis = 0)\n",
    "\n",
    "# x_train = np.array(list(x_train[:, :]), dtype=np.float)\n",
    "# x_test = np.array(list(x_test[:, :]), dtype=np.float)\n",
    "\n",
    "# for i in range(x_train.shape[0]):\n",
    "#     print(i, \"------------------\")\n",
    "#     for j in range(x_train.shape[1]):\n",
    "#         assert(type(x_train[i][j] is float) or (type(x_train[i][j] is int) ))\n",
    "#         print(x_train[i][j], end = \" \")\n",
    "#     print()\n",
    "# print(\"==============================================\")\n",
    "# for i in range(x_test.shape[0]):\n",
    "#     print(i, \"------------------\")\n",
    "#     for j in range(x_test.shape[1]):\n",
    "#         assert(type(x_test[i][j] is float) or (type(x_test[i][j] is int) ))\n",
    "#         print(x_test[i][j], end = \" \")\n",
    "#     print()    print(error.T..shape)\n",
    "print(x_train)\n",
    "print(x_test.shape)\n",
    "print(x_test)\n",
    "print(x_train.shape)\n",
    "print(word_index)"
   ]
  },
  {
   "cell_type": "code",
   "execution_count": 308,
   "metadata": {},
   "outputs": [],
   "source": [
    "# x_train = x_train[[21], :]\n",
    "# x_test = x_test[[21], : ]\n",
    "# print(x_train)\n",
    "# print(x_test.shape)\n",
    "# print(x_test)\n",
    "# print(x_train.shape)\n",
    "# print(word_index)"
   ]
  },
  {
   "cell_type": "code",
   "execution_count": 309,
   "metadata": {},
   "outputs": [],
   "source": [
    "def loss(y_hat, y):\n",
    "    \"\"\"\"Calculate mean sqared error\n",
    "    Arguments : y_hat -> predicted valued, numpy array\n",
    "    y -> ground truth, numpy array\n",
    "    \n",
    "    returns : mse\n",
    "    \"\"\"\n",
    "    error =  y-y_hat\n",
    "    square_error = (y - y_hat)**2\n",
    "    mse = np.sum(square_error)/len(y)\n",
    "#     print(mse)\n",
    "    mse = np.squeeze(mse)\n",
    "    return mse,error"
   ]
  },
  {
   "cell_type": "code",
   "execution_count": 310,
   "metadata": {},
   "outputs": [
    {
     "name": "stdout",
     "output_type": "stream",
     "text": [
      "[1. 1. 1.]\n",
      "[0. 0. 0.]\n",
      "1.0 [-1. -1. -1.]\n"
     ]
    }
   ],
   "source": [
    "#ignore for testing purposes only\n",
    "y_i = np.ones(3)\n",
    "y = np.zeros(3)\n",
    "print(y_i)\n",
    "print(y)\n",
    "mse,error = loss(y_i, y)\n",
    "print(mse, error)"
   ]
  },
  {
   "cell_type": "code",
   "execution_count": 311,
   "metadata": {},
   "outputs": [],
   "source": [
    "def initialize_parameters(dim):\n",
    "    \"\"\"initialize W as random of size  (1,dim) and b = 0\"\"\"\n",
    "    W = np.zeros((1,dim))\n",
    "    b = 0\n",
    "\n",
    "    return W,b"
   ]
  },
  {
   "cell_type": "code",
   "execution_count": 312,
   "metadata": {},
   "outputs": [
    {
     "data": {
      "text/plain": [
       "(array([[0., 0., 0.]]), 0)"
      ]
     },
     "execution_count": 312,
     "metadata": {},
     "output_type": "execute_result"
    }
   ],
   "source": [
    "initialize_parameters(3)"
   ]
  },
  {
   "cell_type": "code",
   "execution_count": 313,
   "metadata": {},
   "outputs": [],
   "source": [
    "def propagate(W,b,x,y):\n",
    "    \"\"\"One step of forwards propagation and calculate gradients\n",
    "    Arguments : \n",
    "    W-> weights\n",
    "    b -> bias\n",
    "    x -> input\n",
    "    y -> ground truth \n",
    "    Returns:\n",
    "    grads : dict of gradients \n",
    "    cost : cost \n",
    "                \n",
    "    \"\"\"\n",
    "    \n",
    "    #number of training examples\n",
    "    m = x.shape[1]    \n",
    "    y_hat = np.dot(W,x) + b\n",
    "    cost, error = loss(y_hat,y)\n",
    "\n",
    "    #gradients \n",
    "    dW = -(np.dot(x,2*error.T))/len(y)\n",
    "    db = -np.sum(2*error)/len(y)\n",
    "#     print(dW.shape)\n",
    "#     print(db.shape)\n",
    "#     print(\"dW \", dW)\n",
    "#     print(\"db \", db)\n",
    "\n",
    "    grads = {\"dW\" : dW, \"db\" : db}\n",
    "    return grads, cost\n",
    "    "
   ]
  },
  {
   "cell_type": "code",
   "execution_count": 314,
   "metadata": {},
   "outputs": [],
   "source": [
    "def optimize(W,b,x,y, num_iters, learning_rate):\n",
    "    \n",
    "    \n",
    "    \n",
    "    \n",
    "    cost_history = []\n",
    "    for i in range(num_iters):\n",
    "        \n",
    "        grads, cost = propagate(W,b,x,y)\n",
    "        \n",
    "        W = W - learning_rate*grads[\"dW\"]\n",
    "        b = b - learning_rate*grads[\"db\"]\n",
    "        cost_history.append(cost)\n",
    "        \n",
    "        if(i%100 == 0):\n",
    "            print(\"cost after \", i, \" iterations is \", cost)\n",
    "    \n",
    "    parameters = {\"W\" : W, \"b\" : b}\n",
    "    \n",
    "    return parameters, cost_history\n",
    "    \n",
    "        "
   ]
  },
  {
   "cell_type": "code",
   "execution_count": 315,
   "metadata": {},
   "outputs": [],
   "source": [
    "def predict(W,b,x):\n",
    "    \n",
    "    m = x.shape[1]\n",
    "    y_pred = np.dot(W,x) + b\n",
    "    \n",
    "    return y_pred\n",
    "    "
   ]
  },
  {
   "cell_type": "code",
   "execution_count": 316,
   "metadata": {},
   "outputs": [],
   "source": [
    "def model(X_train , Y_train , X_test, num_iter, learning_rate, plot_cost = True):\n",
    "    \n",
    "    dim = X_train.shape[0]\n",
    "    \n",
    "    W,b = initialize_parameters(dim)\n",
    "    \n",
    "    parameters, costs = optimize(W,b,X_train, Y_train, num_iter, learning_rate)\n",
    "    \n",
    "    W = parameters[\"W\"]\n",
    "    b = parameters[\"b\"]\n",
    "    \n",
    "    y_pred_test = predict(W,b,X_test)\n",
    "    y_pred_train = predict(W,b,X_train)\n",
    "    \n",
    "    if(plot_cost):\n",
    "        costs = np.squeeze(costs) \n",
    "        plt.plot(costs) \n",
    "        plt.show()\n",
    "        \n",
    "    return y_pred_test,costs\n",
    "    "
   ]
  },
  {
   "cell_type": "code",
   "execution_count": null,
   "metadata": {},
   "outputs": [],
   "source": [
    "y_pred_test,costs = model(x_train, y_train_orig, x_test, 2500, 0.001)\n",
    "print(y_pred_test, costs[-1])"
   ]
  },
  {
   "cell_type": "code",
   "execution_count": null,
   "metadata": {},
   "outputs": [],
   "source": []
  },
  {
   "cell_type": "code",
   "execution_count": null,
   "metadata": {},
   "outputs": [],
   "source": []
  },
  {
   "cell_type": "code",
   "execution_count": null,
   "metadata": {},
   "outputs": [],
   "source": []
  }
 ],
 "metadata": {
  "kernelspec": {
   "display_name": "Python 3",
   "language": "python",
   "name": "python3"
  },
  "language_info": {
   "codemirror_mode": {
    "name": "ipython",
    "version": 3
   },
   "file_extension": ".py",
   "mimetype": "text/x-python",
   "name": "python",
   "nbconvert_exporter": "python",
   "pygments_lexer": "ipython3",
   "version": "3.7.3"
  }
 },
 "nbformat": 4,
 "nbformat_minor": 2
}
