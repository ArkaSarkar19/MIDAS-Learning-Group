{
 "cells": [
  {
   "cell_type": "code",
   "execution_count": 1,
   "metadata": {},
   "outputs": [],
   "source": [
    "import numpy as np\n",
    "import pandas as pd\n",
    "from sklearn import preprocessing\n"
   ]
  },
  {
   "cell_type": "code",
   "execution_count": 2,
   "metadata": {},
   "outputs": [
    {
     "name": "stdout",
     "output_type": "stream",
     "text": [
      "[[6.4 3.2 4.5 1.5]\n",
      " [5.5 2.4 3.7 1.0]\n",
      " [6.2 3.4 5.4 2.3]\n",
      " [7.2 3.2 6.0 1.8]\n",
      " [5.4 3.0 4.5 1.5]\n",
      " [6.5 2.8 4.6 1.5]\n",
      " [6.0 3.4 4.5 1.6]\n",
      " [5.5 2.3 4.0 1.3]\n",
      " [4.8 3.0 1.4 0.3]\n",
      " [5.6 2.9 3.6 1.3]\n",
      " [5.9 3.0 4.2 1.5]\n",
      " [5.1 2.5 3.0 1.1]\n",
      " [6.3 2.7 4.9 1.8]\n",
      " [4.6 3.4 1.4 0.3]\n",
      " [4.8 3.4 1.6 0.2]\n",
      " [5.1 3.8 1.5 0.3]\n",
      " [6.4 3.1 5.5 1.8]\n",
      " [5.9 3.0 5.1 1.8]\n",
      " [6.5 3.2 5.1 2.0]\n",
      " [7.2 3.0 5.8 1.6]\n",
      " [6.0 2.9 4.5 1.5]\n",
      " [5.7 2.6 3.5 1.0]\n",
      " [5.2 2.7 3.9 1.4]\n",
      " [5.7 2.8 4.1 1.3]\n",
      " [6.3 2.9 5.6 1.8]\n",
      " [6.0 2.7 5.1 1.6]\n",
      " [5.6 3.0 4.1 1.3]\n",
      " [4.4 2.9 1.4 0.2]\n",
      " [5.1 3.8 1.6 0.2]\n",
      " [6.7 3.0 5.2 2.3]\n",
      " [6.0 2.2 5.0 1.5]\n",
      " [6.8 2.8 4.8 1.4]\n",
      " [5.1 3.4 1.5 0.2]\n",
      " [6.1 2.8 4.7 1.2]\n",
      " [6.9 3.1 4.9 1.5]\n",
      " [5.0 2.3 3.3 1.0]\n",
      " [4.7 3.2 1.6 0.2]\n",
      " [5.6 2.7 4.2 1.3]\n",
      " [4.4 3.0 1.3 0.2]\n",
      " [6.7 3.1 4.7 1.5]\n",
      " [4.6 3.6 1.0 0.2]\n",
      " [6.1 3.0 4.9 1.8]\n",
      " [5.0 3.3 1.4 0.2]\n",
      " [4.6 3.2 1.4 0.2]\n",
      " [5.0 3.2 1.2 0.2]\n",
      " [6.7 2.5 5.8 1.8]\n",
      " [7.9 3.8 6.4 2.0]\n",
      " [5.3 3.7 1.5 0.2]\n",
      " [5.5 4.2 1.4 0.2]\n",
      " [7.1 3.0 5.9 2.1]\n",
      " [6.4 2.8 5.6 2.2]\n",
      " [4.8 3.4 1.9 0.2]\n",
      " [7.0 3.2 4.7 1.4]\n",
      " [5.8 2.7 5.1 1.9]\n",
      " [6.5 3.0 5.8 2.2]\n",
      " [4.9 3.1 1.5 0.1]\n",
      " [5.6 2.5 3.9 1.1]\n",
      " [4.7 3.2 1.3 0.2]\n",
      " [6.4 2.8 5.6 2.1]\n",
      " [6.7 3.1 5.6 2.4]\n",
      " [5.4 3.4 1.5 0.4]\n",
      " [5.1 3.5 1.4 0.2]\n",
      " [6.5 3.0 5.2 2.0]\n",
      " [5.0 3.0 1.6 0.2]\n",
      " [5.0 3.4 1.6 0.4]\n",
      " [5.9 3.2 4.8 1.8]\n",
      " [5.8 2.6 4.0 1.2]\n",
      " [6.9 3.1 5.1 2.3]\n",
      " [5.0 3.5 1.3 0.3]\n",
      " [7.7 2.8 6.7 2.0]\n",
      " [5.7 2.5 5.0 2.0]\n",
      " [5.1 3.8 1.9 0.4]\n",
      " [7.7 2.6 6.9 2.3]\n",
      " [5.0 3.4 1.5 0.2]\n",
      " [5.4 3.9 1.3 0.4]\n",
      " [5.6 3.0 4.5 1.5]\n",
      " [6.1 2.8 4.0 1.3]\n",
      " [6.3 3.4 5.6 2.4]\n",
      " [4.9 3.1 1.5 0.1]\n",
      " [4.9 2.5 4.5 1.7]\n",
      " [6.3 3.3 4.7 1.6]\n",
      " [6.8 3.0 5.5 2.1]\n",
      " [6.3 2.5 5.0 1.9]\n",
      " [5.8 2.7 5.1 1.9]\n",
      " [4.8 3.0 1.4 0.1]\n",
      " [6.0 3.0 4.8 1.8]\n",
      " [6.7 3.3 5.7 2.1]\n",
      " [7.3 2.9 6.3 1.8]\n",
      " [7.2 3.6 6.1 2.5]\n",
      " [5.5 2.6 4.4 1.2]\n",
      " [4.5 2.3 1.3 0.3]\n",
      " [5.7 2.8 4.5 1.3]\n",
      " [4.9 2.4 3.3 1.0]\n",
      " [6.2 2.2 4.5 1.5]\n",
      " [7.4 2.8 6.1 1.9]\n",
      " [4.9 3.0 1.4 0.2]\n",
      " [6.7 3.3 5.7 2.5]\n",
      " [5.5 2.4 3.8 1.1]\n",
      " [6.8 3.2 5.9 2.3]\n",
      " [4.6 3.1 1.5 0.2]\n",
      " [5.4 3.4 1.7 0.2]\n",
      " [6.4 3.2 5.3 2.3]\n",
      " [5.8 2.7 3.9 1.2]\n",
      " [5.7 3.0 4.2 1.2]\n",
      " [7.7 3.8 6.7 2.2]\n",
      " [4.8 3.1 1.6 0.2]\n",
      " [7.6 3.0 6.6 2.1]\n",
      " [5.2 3.5 1.5 0.2]\n",
      " [5.2 4.1 1.5 0.1]\n",
      " [6.2 2.8 4.8 1.8]\n",
      " [6.1 3.0 4.6 1.4]\n",
      " [5.8 2.8 5.1 2.4]\n",
      " [6.3 3.3 6.0 2.5]\n",
      " [5.8 4.0 1.2 0.2]\n",
      " [6.6 2.9 4.6 1.3]\n",
      " [6.2 2.9 4.3 1.3]\n",
      " [5.4 3.7 1.5 0.2]\n",
      " [6.7 3.1 4.4 1.4]\n",
      " [5.0 3.6 1.4 0.2]\n",
      " [6.0 2.2 4.0 1.0]\n",
      " [6.9 3.2 5.7 2.3]\n",
      " [5.6 2.8 4.9 2.0]\n",
      " [6.3 2.3 4.4 1.3]\n",
      " [6.7 3.0 5.0 1.7]\n",
      " [6.6 3.0 4.4 1.4]\n",
      " [6.4 2.9 4.3 1.3]\n",
      " [6.3 2.8 5.1 1.5]\n",
      " [5.5 3.5 1.3 0.2]\n",
      " [4.4 3.2 1.3 0.2]\n",
      " [6.1 2.6 5.6 1.4]\n",
      " [5.1 3.7 1.5 0.4]\n",
      " [5.7 4.4 1.5 0.4]\n",
      " [6.5 3.0 5.5 1.8]\n",
      " [6.3 2.5 4.9 1.5]\n",
      " [6.1 2.9 4.7 1.4]\n",
      " [5.1 3.5 1.4 0.3]\n",
      " [5.7 3.8 1.7 0.3]\n",
      " [6.4 2.7 5.3 1.9]\n",
      " [5.5 2.5 4.0 1.3]\n",
      " [5.0 2.0 3.5 1.0]\n",
      " [4.3 3.0 1.1 0.1]\n",
      " [5.1 3.3 1.7 0.5]\n",
      " [5.2 3.4 1.4 0.2]\n",
      " [7.7 3.0 6.1 2.3]\n",
      " [6.9 3.1 5.4 2.1]\n",
      " [5.4 3.9 1.7 0.4]\n",
      " [5.7 2.9 4.2 1.3]\n",
      " [5.0 3.5 1.6 0.6]\n",
      " [4.9 3.1 1.5 0.1]\n",
      " [5.8 2.7 4.1 1.0]]\n",
      "[[1]\n",
      " [1]\n",
      " [2]\n",
      " [2]\n",
      " [1]\n",
      " [1]\n",
      " [1]\n",
      " [1]\n",
      " [0]\n",
      " [1]\n",
      " [1]\n",
      " [1]\n",
      " [2]\n",
      " [0]\n",
      " [0]\n",
      " [0]\n",
      " [2]\n",
      " [2]\n",
      " [2]\n",
      " [2]\n",
      " [1]\n",
      " [1]\n",
      " [1]\n",
      " [1]\n",
      " [2]\n",
      " [1]\n",
      " [1]\n",
      " [0]\n",
      " [0]\n",
      " [2]\n",
      " [2]\n",
      " [1]\n",
      " [0]\n",
      " [1]\n",
      " [1]\n",
      " [1]\n",
      " [0]\n",
      " [1]\n",
      " [0]\n",
      " [1]\n",
      " [0]\n",
      " [2]\n",
      " [0]\n",
      " [0]\n",
      " [0]\n",
      " [2]\n",
      " [2]\n",
      " [0]\n",
      " [0]\n",
      " [2]\n",
      " [2]\n",
      " [0]\n",
      " [1]\n",
      " [2]\n",
      " [2]\n",
      " [0]\n",
      " [1]\n",
      " [0]\n",
      " [2]\n",
      " [2]\n",
      " [0]\n",
      " [0]\n",
      " [2]\n",
      " [0]\n",
      " [0]\n",
      " [1]\n",
      " [1]\n",
      " [2]\n",
      " [0]\n",
      " [2]\n",
      " [2]\n",
      " [0]\n",
      " [2]\n",
      " [0]\n",
      " [0]\n",
      " [1]\n",
      " [1]\n",
      " [2]\n",
      " [0]\n",
      " [2]\n",
      " [1]\n",
      " [2]\n",
      " [2]\n",
      " [2]\n",
      " [0]\n",
      " [2]\n",
      " [2]\n",
      " [2]\n",
      " [2]\n",
      " [1]\n",
      " [0]\n",
      " [1]\n",
      " [1]\n",
      " [1]\n",
      " [2]\n",
      " [0]\n",
      " [2]\n",
      " [1]\n",
      " [2]\n",
      " [0]\n",
      " [0]\n",
      " [2]\n",
      " [1]\n",
      " [1]\n",
      " [2]\n",
      " [0]\n",
      " [2]\n",
      " [0]\n",
      " [0]\n",
      " [2]\n",
      " [1]\n",
      " [2]\n",
      " [2]\n",
      " [0]\n",
      " [1]\n",
      " [1]\n",
      " [0]\n",
      " [1]\n",
      " [0]\n",
      " [1]\n",
      " [2]\n",
      " [2]\n",
      " [1]\n",
      " [1]\n",
      " [1]\n",
      " [1]\n",
      " [2]\n",
      " [0]\n",
      " [0]\n",
      " [2]\n",
      " [0]\n",
      " [0]\n",
      " [2]\n",
      " [1]\n",
      " [1]\n",
      " [0]\n",
      " [0]\n",
      " [2]\n",
      " [1]\n",
      " [1]\n",
      " [0]\n",
      " [0]\n",
      " [0]\n",
      " [2]\n",
      " [2]\n",
      " [0]\n",
      " [1]\n",
      " [0]\n",
      " [0]\n",
      " [1]]\n"
     ]
    }
   ],
   "source": [
    "#preprocessing step \n",
    "dataset = pd.read_csv('datasets_19_420_Iris.csv').sample(frac = 1)\n",
    "dataset = dataset.drop(['Id'], axis = 1)\n",
    "dataset = np.array(dataset)\n",
    "X = dataset[:, : -1]\n",
    "Y = dataset[: , -1]\n",
    "label_enc = preprocessing.LabelEncoder()\n",
    "label_enc.fit(['Iris-virginica','Iris-versicolor','Iris-setosa'])\n",
    "Y = label_enc.transform(Y)\n",
    "Y=Y.reshape(Y.shape[0],1)\n",
    "print(X)\n",
    "print(Y)"
   ]
  },
  {
   "cell_type": "code",
   "execution_count": 3,
   "metadata": {},
   "outputs": [
    {
     "name": "stdout",
     "output_type": "stream",
     "text": [
      "(112, 4)\n",
      "(38, 4)\n",
      "(112, 1)\n",
      "(38, 1)\n"
     ]
    }
   ],
   "source": [
    "from sklearn.model_selection import train_test_split\n",
    "X_train, X_test, Y_train, Y_test = train_test_split(X,Y, test_size = 0.25, random_state = 0)\n",
    "print(X_train.shape)\n",
    "print(X_test.shape)\n",
    "print(Y_train.shape)\n",
    "print(Y_test.shape)"
   ]
  },
  {
   "cell_type": "code",
   "execution_count": 4,
   "metadata": {},
   "outputs": [
    {
     "name": "stdout",
     "output_type": "stream",
     "text": [
      "(38, 4)\n",
      "(112, 4)\n"
     ]
    },
    {
     "name": "stderr",
     "output_type": "stream",
     "text": [
      "/home/arkasarkar/anaconda3/lib/python3.7/site-packages/sklearn/utils/validation.py:595: DataConversionWarning: Data with input dtype object was converted to float64 by StandardScaler.\n",
      "  warnings.warn(msg, DataConversionWarning)\n",
      "/home/arkasarkar/anaconda3/lib/python3.7/site-packages/sklearn/utils/validation.py:595: DataConversionWarning: Data with input dtype object was converted to float64 by StandardScaler.\n",
      "  warnings.warn(msg, DataConversionWarning)\n",
      "/home/arkasarkar/anaconda3/lib/python3.7/site-packages/sklearn/utils/validation.py:595: DataConversionWarning: Data with input dtype object was converted to float64 by StandardScaler.\n",
      "  warnings.warn(msg, DataConversionWarning)\n",
      "/home/arkasarkar/anaconda3/lib/python3.7/site-packages/sklearn/utils/validation.py:595: DataConversionWarning: Data with input dtype object was converted to float64 by StandardScaler.\n",
      "  warnings.warn(msg, DataConversionWarning)\n"
     ]
    }
   ],
   "source": [
    "from sklearn.preprocessing import StandardScaler\n",
    "sc = StandardScaler()\n",
    "X_train = sc.fit_transform(X_train)\n",
    "X_test = sc.fit_transform(X_test)\n",
    "print(X_test.shape)\n",
    "print(X_train.shape)"
   ]
  },
  {
   "cell_type": "code",
   "execution_count": null,
   "metadata": {},
   "outputs": [],
   "source": []
  },
  {
   "cell_type": "code",
   "execution_count": 6,
   "metadata": {},
   "outputs": [
    {
     "name": "stdout",
     "output_type": "stream",
     "text": [
      "Collecting xgboost\n",
      "\u001b[?25l  Downloading https://files.pythonhosted.org/packages/7c/32/a11befbb003e0e6b7e062a77f010dfcec0ec3589be537b02d2eb2ff93b9a/xgboost-1.1.1-py3-none-manylinux2010_x86_64.whl (127.6MB)\n",
      "\u001b[K    100% |████████████████████████████████| 127.6MB 427kB/s ta 0:00:01    95% |██████████████████████████████▍ | 121.3MB 4.1MB/s eta 0:00:02\n",
      "\u001b[?25hRequirement already satisfied: numpy in /home/arkasarkar/anaconda3/lib/python3.7/site-packages (from xgboost) (1.16.2)\n",
      "Requirement already satisfied: scipy in /home/arkasarkar/anaconda3/lib/python3.7/site-packages (from xgboost) (1.2.1)\n",
      "Installing collected packages: xgboost\n",
      "Successfully installed xgboost-1.1.1\n"
     ]
    }
   ],
   "source": [
    "import sys\n",
    "!{sys.executable} -m pip install xgboost"
   ]
  },
  {
   "cell_type": "code",
   "execution_count": 7,
   "metadata": {},
   "outputs": [
    {
     "name": "stderr",
     "output_type": "stream",
     "text": [
      "/home/arkasarkar/anaconda3/lib/python3.7/site-packages/distributed/config.py:20: YAMLLoadWarning: calling yaml.load() without Loader=... is deprecated, as the default Loader is unsafe. Please read https://msg.pyyaml.org/load for full details.\n",
      "  defaults = yaml.load(f)\n",
      "/home/arkasarkar/anaconda3/lib/python3.7/site-packages/sklearn/preprocessing/label.py:219: DataConversionWarning: A column-vector y was passed when a 1d array was expected. Please change the shape of y to (n_samples, ), for example using ravel().\n",
      "  y = column_or_1d(y, warn=True)\n",
      "/home/arkasarkar/anaconda3/lib/python3.7/site-packages/sklearn/preprocessing/label.py:252: DataConversionWarning: A column-vector y was passed when a 1d array was expected. Please change the shape of y to (n_samples, ), for example using ravel().\n",
      "  y = column_or_1d(y, warn=True)\n"
     ]
    },
    {
     "data": {
      "text/plain": [
       "XGBClassifier(base_score=0.5, booster='gbtree', colsample_bylevel=1,\n",
       "       colsample_bynode=1, colsample_bytree=1, gamma=0, gpu_id=-1,\n",
       "       importance_type='gain', interaction_constraints='',\n",
       "       learning_rate=0.300000012, max_delta_step=0, max_depth=6,\n",
       "       min_child_weight=1, missing=nan, monotone_constraints='()',\n",
       "       n_estimators=100, n_jobs=0, num_parallel_tree=1,\n",
       "       objective='multi:softprob', random_state=0, reg_alpha=0,\n",
       "       reg_lambda=1, scale_pos_weight=None, subsample=1,\n",
       "       tree_method='exact', validate_parameters=1, verbosity=None)"
      ]
     },
     "execution_count": 7,
     "metadata": {},
     "output_type": "execute_result"
    }
   ],
   "source": [
    "from xgboost import XGBClassifier\n",
    "model = XGBClassifier()\n",
    "model.fit(X_train, Y_train)"
   ]
  },
  {
   "cell_type": "code",
   "execution_count": 8,
   "metadata": {},
   "outputs": [],
   "source": [
    "y_pred = model.predict(X_test)"
   ]
  },
  {
   "cell_type": "code",
   "execution_count": 9,
   "metadata": {},
   "outputs": [
    {
     "name": "stdout",
     "output_type": "stream",
     "text": [
      "[1 2 1 0 1 0 0 2 1 0 1 0 0 2 0 1 0 0 2 2 2 1 2 0 2 1 0 1 1 1 2 0 0 0 2 2 2\n",
      " 2]\n"
     ]
    }
   ],
   "source": [
    "print(y_pred)"
   ]
  },
  {
   "cell_type": "code",
   "execution_count": 10,
   "metadata": {},
   "outputs": [
    {
     "name": "stdout",
     "output_type": "stream",
     "text": [
      "[1 2 1 0 1 0 0 2 1 0 1 0 0 2 0 1 0 0 2 2 2 1 2 0 2 1 0 1 1 1 2 0 0 0 2 2 2\n",
      " 2]\n"
     ]
    }
   ],
   "source": [
    "Y_test = np.squeeze(Y_test)\n",
    "print(Y_test)"
   ]
  },
  {
   "cell_type": "code",
   "execution_count": 11,
   "metadata": {},
   "outputs": [],
   "source": [
    "from sklearn.metrics import confusion_matrix\n",
    "cm = confusion_matrix(Y_test, y_pred)"
   ]
  },
  {
   "cell_type": "code",
   "execution_count": 12,
   "metadata": {},
   "outputs": [
    {
     "name": "stdout",
     "output_type": "stream",
     "text": [
      "[[14  0  0]\n",
      " [ 0 11  0]\n",
      " [ 0  0 13]]\n"
     ]
    }
   ],
   "source": [
    "print(cm)"
   ]
  },
  {
   "cell_type": "code",
   "execution_count": 13,
   "metadata": {},
   "outputs": [
    {
     "name": "stdout",
     "output_type": "stream",
     "text": [
      "Test set accuracy is :  100.0 %\n"
     ]
    }
   ],
   "source": [
    "cor = 0\n",
    "\n",
    "for i in range (len(y_pred)):\n",
    "    if(y_pred[i]==Y_test[i]):\n",
    "        cor = cor + 1\n",
    "print(\"Test set accuracy is : \" , cor*100/ len(y_pred) ,\"%\" )"
   ]
  },
  {
   "cell_type": "code",
   "execution_count": null,
   "metadata": {},
   "outputs": [],
   "source": []
  }
 ],
 "metadata": {
  "kernelspec": {
   "display_name": "Python 3",
   "language": "python",
   "name": "python3"
  },
  "language_info": {
   "codemirror_mode": {
    "name": "ipython",
    "version": 3
   },
   "file_extension": ".py",
   "mimetype": "text/x-python",
   "name": "python",
   "nbconvert_exporter": "python",
   "pygments_lexer": "ipython3",
   "version": "3.7.3"
  }
 },
 "nbformat": 4,
 "nbformat_minor": 2
}
